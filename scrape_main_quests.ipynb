{
 "cells": [
  {
   "cell_type": "code",
   "execution_count": 1,
   "metadata": {},
   "outputs": [],
   "source": [
    "import wandb\n",
    "import markdown\n",
    "import pandas as pd\n",
    "from tqdm.notebook import tqdm\n",
    "from quest_scraper import MainQuestScraper, get_main_quest_list"
   ]
  },
  {
   "cell_type": "code",
   "execution_count": 2,
   "metadata": {},
   "outputs": [
    {
     "name": "stdout",
     "output_type": "stream",
     "text": [
      "https://witcher.fandom.com\n"
     ]
    }
   ],
   "source": [
    "(\n",
    "    quest_names, quest_levels, quest_locations, quest_urls\n",
    ") = get_main_quest_list(\n",
    "    \"https://witcher.fandom.com/wiki/The_Witcher_3_main_quests\"\n",
    ")"
   ]
  },
  {
   "cell_type": "code",
   "execution_count": 3,
   "metadata": {},
   "outputs": [
    {
     "data": {
      "application/vnd.jupyter.widget-view+json": {
       "model_id": "720801bcb464489392da193ee460c826",
       "version_major": 2,
       "version_minor": 0
      },
      "text/plain": [
       "  0%|          | 0/60 [00:00<?, ?it/s]"
      ]
     },
     "metadata": {},
     "output_type": "display_data"
    }
   ],
   "source": [
    "walkthroughs, journal_entries, objectives = [], [], []\n",
    "for url in tqdm(quest_urls[:-1]):\n",
    "    scraper = MainQuestScraper(quest_url=url)\n",
    "    walkthroughs.append(scraper.scrape_walkthrough())\n",
    "    journal_entries.append(scraper.scrape_journal_entry())\n",
    "    objectives.append(scraper.scrape_objectives())"
   ]
  },
  {
   "cell_type": "code",
   "execution_count": 4,
   "metadata": {},
   "outputs": [],
   "source": [
    "data_frame = pd.DataFrame(\n",
    "    data={\n",
    "        \"Quests\": quest_names[:-1],\n",
    "        \"Quest_Levels\": quest_levels[:-1],\n",
    "        \"Quest_Locations\": quest_locations[:-1],\n",
    "        \"Quest_Page_Link\": quest_urls[:-1],\n",
    "        \"Quest_Walkthrouughs\": walkthroughs,\n",
    "        \"Journal_Entries\": journal_entries,\n",
    "        \"Quest_Objectives\": objectives\n",
    "    }\n",
    ")"
   ]
  },
  {
   "cell_type": "code",
   "execution_count": 5,
   "metadata": {},
   "outputs": [
    {
     "data": {
      "text/html": [
       "<div>\n",
       "<style scoped>\n",
       "    .dataframe tbody tr th:only-of-type {\n",
       "        vertical-align: middle;\n",
       "    }\n",
       "\n",
       "    .dataframe tbody tr th {\n",
       "        vertical-align: top;\n",
       "    }\n",
       "\n",
       "    .dataframe thead th {\n",
       "        text-align: right;\n",
       "    }\n",
       "</style>\n",
       "<table border=\"1\" class=\"dataframe\">\n",
       "  <thead>\n",
       "    <tr style=\"text-align: right;\">\n",
       "      <th></th>\n",
       "      <th>Quests</th>\n",
       "      <th>Quest_Levels</th>\n",
       "      <th>Quest_Locations</th>\n",
       "      <th>Quest_Page_Link</th>\n",
       "      <th>Quest_Walkthrouughs</th>\n",
       "      <th>Journal_Entries</th>\n",
       "      <th>Quest_Objectives</th>\n",
       "    </tr>\n",
       "  </thead>\n",
       "  <tbody>\n",
       "    <tr>\n",
       "      <th>0</th>\n",
       "      <td>Kaer Morhen</td>\n",
       "      <td>0</td>\n",
       "      <td>Kaer Morhen</td>\n",
       "      <td>https://witcher.fandom.com/wiki/Kaer_Morhen_(q...</td>\n",
       "      <td>The game begins in the guest room of the witch...</td>\n",
       "      <td>Every story has to start somewhere. This one s...</td>\n",
       "      <td>* Use your Witcher Senses to find the key to t...</td>\n",
       "    </tr>\n",
       "    <tr>\n",
       "      <th>1</th>\n",
       "      <td>Lilac and Gooseberries</td>\n",
       "      <td>0</td>\n",
       "      <td>White Orchard</td>\n",
       "      <td>https://witcher.fandom.com/wiki/Lilac_and_Goos...</td>\n",
       "      <td>Upon waking from his dream of Yennefer and Cir...</td>\n",
       "      <td>Yennefer had contacted Geralt - finally. They ...</td>\n",
       "      <td>* Kill the ghouls.\\n* Follow Vesemir.\\n* Go to...</td>\n",
       "    </tr>\n",
       "    <tr>\n",
       "      <th>2</th>\n",
       "      <td>The Beast of White Orchard</td>\n",
       "      <td>3</td>\n",
       "      <td>White Orchard</td>\n",
       "      <td>https://witcher.fandom.com/wiki/The_Beast_of_W...</td>\n",
       "      <td>While the quest objectives indicate that you m...</td>\n",
       "      <td>The commander of the Nilfgaardian garrison in ...</td>\n",
       "      <td>* Ask the herbalist about buckthorn.\\nFind som...</td>\n",
       "    </tr>\n",
       "    <tr>\n",
       "      <th>3</th>\n",
       "      <td>The Incident at White Orchard</td>\n",
       "      <td>2</td>\n",
       "      <td>White Orchard</td>\n",
       "      <td>https://witcher.fandom.com/wiki/The_Incident_a...</td>\n",
       "      <td>After finishing The Beast of White Orchard, he...</td>\n",
       "      <td>Witchers should be neutral, avoid meddling in ...</td>\n",
       "      <td>* Kill the bandits.</td>\n",
       "    </tr>\n",
       "    <tr>\n",
       "      <th>4</th>\n",
       "      <td>Imperial Audience</td>\n",
       "      <td>2</td>\n",
       "      <td>Vizima</td>\n",
       "      <td>https://witcher.fandom.com/wiki/Imperial_Audience</td>\n",
       "      <td>This quest begins nice enough as you are bathe...</td>\n",
       "      <td>Geralt had spent years looking for Yennefer, o...</td>\n",
       "      <td>* Get dressed and talk to the chamberlain.\\n* ...</td>\n",
       "    </tr>\n",
       "  </tbody>\n",
       "</table>\n",
       "</div>"
      ],
      "text/plain": [
       "                          Quests  Quest_Levels Quest_Locations  \\\n",
       "0                    Kaer Morhen             0     Kaer Morhen   \n",
       "1         Lilac and Gooseberries             0   White Orchard   \n",
       "2     The Beast of White Orchard             3   White Orchard   \n",
       "3  The Incident at White Orchard             2   White Orchard   \n",
       "4              Imperial Audience             2          Vizima   \n",
       "\n",
       "                                     Quest_Page_Link  \\\n",
       "0  https://witcher.fandom.com/wiki/Kaer_Morhen_(q...   \n",
       "1  https://witcher.fandom.com/wiki/Lilac_and_Goos...   \n",
       "2  https://witcher.fandom.com/wiki/The_Beast_of_W...   \n",
       "3  https://witcher.fandom.com/wiki/The_Incident_a...   \n",
       "4  https://witcher.fandom.com/wiki/Imperial_Audience   \n",
       "\n",
       "                                 Quest_Walkthrouughs  \\\n",
       "0  The game begins in the guest room of the witch...   \n",
       "1  Upon waking from his dream of Yennefer and Cir...   \n",
       "2  While the quest objectives indicate that you m...   \n",
       "3  After finishing The Beast of White Orchard, he...   \n",
       "4  This quest begins nice enough as you are bathe...   \n",
       "\n",
       "                                     Journal_Entries  \\\n",
       "0  Every story has to start somewhere. This one s...   \n",
       "1  Yennefer had contacted Geralt - finally. They ...   \n",
       "2  The commander of the Nilfgaardian garrison in ...   \n",
       "3  Witchers should be neutral, avoid meddling in ...   \n",
       "4  Geralt had spent years looking for Yennefer, o...   \n",
       "\n",
       "                                    Quest_Objectives  \n",
       "0  * Use your Witcher Senses to find the key to t...  \n",
       "1  * Kill the ghouls.\\n* Follow Vesemir.\\n* Go to...  \n",
       "2  * Ask the herbalist about buckthorn.\\nFind som...  \n",
       "3                                * Kill the bandits.  \n",
       "4  * Get dressed and talk to the chamberlain.\\n* ...  "
      ]
     },
     "execution_count": 5,
     "metadata": {},
     "output_type": "execute_result"
    }
   ],
   "source": [
    "data_frame.head()"
   ]
  },
  {
   "cell_type": "code",
   "execution_count": 6,
   "metadata": {},
   "outputs": [],
   "source": [
    "data_frame.to_csv(\"witcher-3-data/main_quests.csv\", sep=\"\\t\")"
   ]
  },
  {
   "cell_type": "code",
   "execution_count": 7,
   "metadata": {},
   "outputs": [
    {
     "name": "stderr",
     "output_type": "stream",
     "text": [
      "\u001b[34m\u001b[1mwandb\u001b[0m: Currently logged in as: \u001b[33mgeekyrakshit\u001b[0m. Use \u001b[1m`wandb login --relogin`\u001b[0m to force relogin\n"
     ]
    },
    {
     "data": {
      "text/html": [
       "Tracking run with wandb version 0.12.16"
      ],
      "text/plain": [
       "<IPython.core.display.HTML object>"
      ]
     },
     "metadata": {},
     "output_type": "display_data"
    },
    {
     "data": {
      "text/html": [
       "Run data is saved locally in <code>/Users/soumikrakshit/Workspace/rpg-quest-generation/wandb/run-20220504_051450-eb6ipm6q</code>"
      ],
      "text/plain": [
       "<IPython.core.display.HTML object>"
      ]
     },
     "metadata": {},
     "output_type": "display_data"
    },
    {
     "data": {
      "text/html": [
       "Syncing run <strong><a href=\"https://wandb.ai/geekyrakshit/rpg-quest-generation/runs/eb6ipm6q\" target=\"_blank\">smooth-universe-7</a></strong> to <a href=\"https://wandb.ai/geekyrakshit/rpg-quest-generation\" target=\"_blank\">Weights & Biases</a> (<a href=\"https://wandb.me/run\" target=\"_blank\">docs</a>)<br/>"
      ],
      "text/plain": [
       "<IPython.core.display.HTML object>"
      ]
     },
     "metadata": {},
     "output_type": "display_data"
    },
    {
     "name": "stderr",
     "output_type": "stream",
     "text": [
      "\u001b[34m\u001b[1mwandb\u001b[0m: Adding directory to artifact (./witcher-3-data)... Done. 0.0s\n"
     ]
    },
    {
     "data": {
      "text/html": [
       "Waiting for W&B process to finish... <strong style=\"color:green\">(success).</strong>"
      ],
      "text/plain": [
       "<IPython.core.display.HTML object>"
      ]
     },
     "metadata": {},
     "output_type": "display_data"
    },
    {
     "data": {
      "application/vnd.jupyter.widget-view+json": {
       "model_id": "931cbea306724c1f8e458151946dd2f7",
       "version_major": 2,
       "version_minor": 0
      },
      "text/plain": [
       "VBox(children=(Label(value='0.291 MB of 0.291 MB uploaded (0.000 MB deduped)\\r'), FloatProgress(value=1.0, max…"
      ]
     },
     "metadata": {},
     "output_type": "display_data"
    },
    {
     "data": {
      "text/html": [
       "Synced <strong style=\"color:#cdcd00\">smooth-universe-7</strong>: <a href=\"https://wandb.ai/geekyrakshit/rpg-quest-generation/runs/eb6ipm6q\" target=\"_blank\">https://wandb.ai/geekyrakshit/rpg-quest-generation/runs/eb6ipm6q</a><br/>Synced 5 W&B file(s), 0 media file(s), 1 artifact file(s) and 0 other file(s)"
      ],
      "text/plain": [
       "<IPython.core.display.HTML object>"
      ]
     },
     "metadata": {},
     "output_type": "display_data"
    },
    {
     "data": {
      "text/html": [
       "Find logs at: <code>./wandb/run-20220504_051450-eb6ipm6q/logs</code>"
      ],
      "text/plain": [
       "<IPython.core.display.HTML object>"
      ]
     },
     "metadata": {},
     "output_type": "display_data"
    }
   ],
   "source": [
    "with wandb.init(project=\"rpg-quest-generation\", job_type=\"upload\"):\n",
    "    artifact = wandb.Artifact(name=\"witcher-3-quests\", type=\"dataset\")\n",
    "    artifact.add_dir(\"witcher-3-data\")\n",
    "    wandb.log_artifact(artifact)"
   ]
  },
  {
   "cell_type": "code",
   "execution_count": 8,
   "metadata": {},
   "outputs": [
    {
     "data": {
      "text/plain": [
       "Index(['Quests', 'Quest_Levels', 'Quest_Locations', 'Quest_Page_Link',\n",
       "       'Quest_Walkthrouughs', 'Journal_Entries', 'Quest_Objectives'],\n",
       "      dtype='object')"
      ]
     },
     "execution_count": 8,
     "metadata": {},
     "output_type": "execute_result"
    }
   ],
   "source": [
    "data_frame.columns"
   ]
  },
  {
   "cell_type": "code",
   "execution_count": 9,
   "metadata": {},
   "outputs": [
    {
     "data": {
      "text/html": [
       "Tracking run with wandb version 0.12.16"
      ],
      "text/plain": [
       "<IPython.core.display.HTML object>"
      ]
     },
     "metadata": {},
     "output_type": "display_data"
    },
    {
     "data": {
      "text/html": [
       "Run data is saved locally in <code>/Users/soumikrakshit/Workspace/rpg-quest-generation/wandb/run-20220504_051502-uljlmw04</code>"
      ],
      "text/plain": [
       "<IPython.core.display.HTML object>"
      ]
     },
     "metadata": {},
     "output_type": "display_data"
    },
    {
     "data": {
      "text/html": [
       "Syncing run <strong><a href=\"https://wandb.ai/geekyrakshit/rpg-quest-generation/runs/uljlmw04\" target=\"_blank\">generous-hill-8</a></strong> to <a href=\"https://wandb.ai/geekyrakshit/rpg-quest-generation\" target=\"_blank\">Weights & Biases</a> (<a href=\"https://wandb.me/run\" target=\"_blank\">docs</a>)<br/>"
      ],
      "text/plain": [
       "<IPython.core.display.HTML object>"
      ]
     },
     "metadata": {},
     "output_type": "display_data"
    },
    {
     "data": {
      "text/html": [
       "Waiting for W&B process to finish... <strong style=\"color:green\">(success).</strong>"
      ],
      "text/plain": [
       "<IPython.core.display.HTML object>"
      ]
     },
     "metadata": {},
     "output_type": "display_data"
    },
    {
     "data": {
      "application/vnd.jupyter.widget-view+json": {
       "model_id": "90eb17a337e5404885f86367a25a30c4",
       "version_major": 2,
       "version_minor": 0
      },
      "text/plain": [
       "VBox(children=(Label(value='0.342 MB of 0.342 MB uploaded (0.000 MB deduped)\\r'), FloatProgress(value=1.0, max…"
      ]
     },
     "metadata": {},
     "output_type": "display_data"
    },
    {
     "data": {
      "text/html": [
       "Synced <strong style=\"color:#cdcd00\">generous-hill-8</strong>: <a href=\"https://wandb.ai/geekyrakshit/rpg-quest-generation/runs/uljlmw04\" target=\"_blank\">https://wandb.ai/geekyrakshit/rpg-quest-generation/runs/uljlmw04</a><br/>Synced 4 W&B file(s), 1 media file(s), 181 artifact file(s) and 0 other file(s)"
      ],
      "text/plain": [
       "<IPython.core.display.HTML object>"
      ]
     },
     "metadata": {},
     "output_type": "display_data"
    },
    {
     "data": {
      "text/html": [
       "Find logs at: <code>./wandb/run-20220504_051502-uljlmw04/logs</code>"
      ],
      "text/plain": [
       "<IPython.core.display.HTML object>"
      ]
     },
     "metadata": {},
     "output_type": "display_data"
    }
   ],
   "source": [
    "table_data = []\n",
    "for idx in range(len(data_frame.index)):\n",
    "    data = list(data_frame.iloc[idx])\n",
    "    data[4] = wandb.Html(markdown.markdown(data[4]))\n",
    "    data[5] = wandb.Html(markdown.markdown(data[5]))\n",
    "    data[6] = wandb.Html(markdown.markdown(data[6]))\n",
    "    table_data.append(data)\n",
    "with wandb.init(project=\"rpg-quest-generation\", job_type=\"upload\"):\n",
    "    wandb.log({\"Main-Quests\": wandb.Table(data=table_data, columns=list(data_frame.columns))})"
   ]
  },
  {
   "cell_type": "code",
   "execution_count": null,
   "metadata": {},
   "outputs": [],
   "source": []
  }
 ],
 "metadata": {
  "interpreter": {
   "hash": "e9d9aaa97c3b077882633d509d16212ec1acbca8a6691f7f936470b5db799c0a"
  },
  "kernelspec": {
   "display_name": "Python 3.9.12 ('venv': venv)",
   "language": "python",
   "name": "python3"
  },
  "language_info": {
   "codemirror_mode": {
    "name": "ipython",
    "version": 3
   },
   "file_extension": ".py",
   "mimetype": "text/x-python",
   "name": "python",
   "nbconvert_exporter": "python",
   "pygments_lexer": "ipython3",
   "version": "3.9.12"
  },
  "orig_nbformat": 4
 },
 "nbformat": 4,
 "nbformat_minor": 2
}
