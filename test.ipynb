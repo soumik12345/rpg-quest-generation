{
 "cells": [
  {
   "cell_type": "code",
   "execution_count": 1,
   "metadata": {},
   "outputs": [],
   "source": [
    "from quest_scraper import MainQuestScraper"
   ]
  },
  {
   "cell_type": "code",
   "execution_count": 2,
   "metadata": {},
   "outputs": [
    {
     "data": {
      "text/plain": [
       "'Kaer Morhen (quest)'"
      ]
     },
     "execution_count": 2,
     "metadata": {},
     "output_type": "execute_result"
    }
   ],
   "source": [
    "scraper = MainQuestScraper(quest_url=\"https://witcher.fandom.com/wiki/Kaer_Morhen_(quest)\")\n",
    "scraper.scrape_title()"
   ]
  },
  {
   "cell_type": "code",
   "execution_count": 3,
   "metadata": {},
   "outputs": [
    {
     "data": {
      "text/plain": [
       "'The game begins in the guest room of the witcher stronghold of Kaer Morhen. After being rudely interrupted during bath time by Yennefer\\'s conjuring of a small, insectoid-like monster, Geralt rises from the tub and gets dressed.\\nThe first order of business is to find the key to open the door so that we can leave and go down below. To do this, the game has us activate Witcher Senses. In this augmented vision mode, quest-related items which can be looted or inspected are highlighted in red, whilst other objects which can be looted or interacted with are highlighted in yellow. Activate Witcher Senses and explore the room. You\\'ll be able to inspect the following:\\n- Clothes on the bed\\n- Box of silver jewelry on a bookshelf\\n- Pitcher of juice on the small table\\n- Perfume bottle on a bookshelf near the door\\n- Key to the door on the table by the door\\n\\nInspecting those four items will each result in a short conversation with Yennefer. You can talk to Yennefer directly as well, but regardless of what dialogue options you choose she\\'ll tell you to hurry up and go see Ciri for her training.\\nCollect the key. The locked doors to the west can now be unlocked with this new key, and you may leave when ready.\\nWalking to the balcony offers an exceptional view of the castle and surrounding countryside. Geralt will also comment on the view.\\nAs you head down the stairs and approach the bottom landing a cut scene will start. You\\'ll find out that Vesemir has fallen asleep while giving Ciri her lessons on \"Ghouls and Alghouls\" while Ciri has run off to practice her sword work instead of working on her lessons.\\nVesemir will awaken and some dialogue will begin with him, Ciri can be seen practicing in the courtyard down below. Afterward, Geralt will go down and speak with Ciri as Vesemir watches.\\nDialogue with Ciri begins and at one point Geralt has the option to race Ciri to the courtyard, which will activate the \"Movement Mechanics Tutorial\" if you select the option to \"run the walls\" with Ciri as they talk.\\nIf you choose to run the walls, you\\'ll need to climb the ladder ahead, practice climbing up a series of ledges and then traverse the platforms and ledges down to the courtyard below. (Be careful to not jump off the ledges - you don\\'t want to die in the tutorial!)\\nFollow Ciri through a course of ladders jumps and vaults along the ramparts to reach the practice yard. If she wins she will taunt you, however, if you win she\\'ll blame her shorter legs.\\nUpon reaching the practice yard Ciri will reveal that she had in fact completed the lesson Vesemir had been teaching before he fell asleep. At this point, Vesemir proposes combat training that you may choose to play through, which will take you through all the basic combat maneuvers including casting witcher signs. Geralt can also choose to skip if you choose \"Let\\'s go straight to free training.\"\\nFollowing your training regardless if you skipped it, a final cutscene plays where Ciri knocks off the dummy\\'s helmet outside from the castle walls and goes to retrieve it. After a moment, Geralt sensing something was wrong, examines the dummy as suddenly the weather changes and the Wild Hunt appears. The murder of Ciri occurs followed immediately by Geralt awaking from what apparently was all only just a dream.'"
      ]
     },
     "execution_count": 3,
     "metadata": {},
     "output_type": "execute_result"
    }
   ],
   "source": [
    "scraper.scrape_walkthrough()"
   ]
  },
  {
   "cell_type": "code",
   "execution_count": 4,
   "metadata": {},
   "outputs": [
    {
     "data": {
      "text/plain": [
       "\"Every story has to start somewhere. This one starts in the guest room at Kaer Morhen, the stronghold of the witchers in the Blue Mountains. It starts with Geralt taking a bath, disproving the theory that witchers neglect personal hygiene. But as he's bathing, he is brusquely interrupted by Yennefer - does she ever interrupt in any other way? She reminds him that he was supposed to train with Ciri. What could our hero do but bid the sorceress farewell and descend in to the courtyard of the fortress. Little did he know this would mark the start of a great adventure.\\nAs it turned out, all that happened at Kaer Morhen was but a dream... The kind that wakes even witchers, screaming, a cold sweat on their brow. Geralt crouched by the fire and surveyed the land, a land ravaged by war signs of a battle stretching to the horizon. But he had not chosen this campsite for its view - Yennefer's trail had brought him there...\""
      ]
     },
     "execution_count": 4,
     "metadata": {},
     "output_type": "execute_result"
    }
   ],
   "source": [
    "scraper.scrape_journal_entry()"
   ]
  },
  {
   "cell_type": "code",
   "execution_count": 5,
   "metadata": {},
   "outputs": [
    {
     "data": {
      "text/plain": [
       "\"- Use your Witcher Senses to find the key to the bedroom door.\\n- Go to the lower level.\\n- Talk to Ciri.\\n- (Optional) Join Ciri in a run along the ramparts down to the lower courtyard.\\n- (Optional) Draw your sword.\\n- (Optional) Aim at Vesemir and mark him as your target.\\n- (Optional) Perform a series of fast attacks. 0/3\\n- (Optional) Perform a series of strong attacks. 0/3\\n- (Optional) Perform a series of dodges. 0/2\\n- (Optional) Roll out of the way of Vesemir's blows. 0/2\\n- (Optional) Perform a series of parries. 0/3\\n- (Optional) Perform a series of counterattacks. 0/3\\n- (Optional) Cast the Quen Sign.\\n- (Optional) Cast the Igni Sign.\\n- (Optional) Cast the Aard Sign.\\n- (Optional) Cast the Axii Sign.\\n- (Optional) Cast the Yrden Sign.\\n- (Optional) Throw a bomb.\\n- (Optional) Stand in the highlighted spot.\\n- (Optional) Throw a bomb at the training post.\\n- (Optional) Sheathe your sword.\""
      ]
     },
     "execution_count": 5,
     "metadata": {},
     "output_type": "execute_result"
    }
   ],
   "source": [
    "scraper.scrape_objectives()"
   ]
  },
  {
   "cell_type": "code",
   "execution_count": null,
   "metadata": {},
   "outputs": [],
   "source": [
    "from quest_scraper import get_main_quest_list\n",
    "\n",
    "\n",
    "quest_names, quest_levels, quest_locations, quest_urls = get_main_quest_list(\"https://witcher.fandom.com/wiki/The_Witcher_3_main_quests\")"
   ]
  }
 ],
 "metadata": {
  "interpreter": {
   "hash": "e9d9aaa97c3b077882633d509d16212ec1acbca8a6691f7f936470b5db799c0a"
  },
  "kernelspec": {
   "display_name": "Python 3.9.12 ('venv': venv)",
   "language": "python",
   "name": "python3"
  },
  "language_info": {
   "codemirror_mode": {
    "name": "ipython",
    "version": 3
   },
   "file_extension": ".py",
   "mimetype": "text/x-python",
   "name": "python",
   "nbconvert_exporter": "python",
   "pygments_lexer": "ipython3",
   "version": "3.9.12"
  },
  "orig_nbformat": 4
 },
 "nbformat": 4,
 "nbformat_minor": 2
}
