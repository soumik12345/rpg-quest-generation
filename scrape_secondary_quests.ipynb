{
 "cells": [
  {
   "cell_type": "code",
   "execution_count": 1,
   "metadata": {},
   "outputs": [],
   "source": [
    "import os\n",
    "\n",
    "from quest_scraper import get_secondary_quest_list"
   ]
  },
  {
   "cell_type": "code",
   "execution_count": 2,
   "metadata": {},
   "outputs": [
    {
     "name": "stdout",
     "output_type": "stream",
     "text": [
      "https://witcher.fandom.com\n"
     ]
    }
   ],
   "source": [
    "page_url = \"https://witcher.fandom.com/wiki/The_Witcher_3_secondary_quests\"\n",
    "base_url = os.path.dirname(os.path.dirname(page_url))\n",
    "print(base_url)"
   ]
  },
  {
   "cell_type": "code",
   "execution_count": 3,
   "metadata": {},
   "outputs": [],
   "source": [
    "(\n",
    "    quest_names,\n",
    "    quest_urls,\n",
    "    is_unmarked,\n",
    "    cutoff_point,\n",
    "    levels,\n",
    "    locations,\n",
    "    enemies,\n",
    ") = get_secondary_quest_list(page_url)"
   ]
  },
  {
   "cell_type": "code",
   "execution_count": null,
   "metadata": {},
   "outputs": [],
   "source": []
  }
 ],
 "metadata": {
  "interpreter": {
   "hash": "e9d9aaa97c3b077882633d509d16212ec1acbca8a6691f7f936470b5db799c0a"
  },
  "kernelspec": {
   "display_name": "Python 3.9.12 ('venv': venv)",
   "language": "python",
   "name": "python3"
  },
  "language_info": {
   "codemirror_mode": {
    "name": "ipython",
    "version": 3
   },
   "file_extension": ".py",
   "mimetype": "text/x-python",
   "name": "python",
   "nbconvert_exporter": "python",
   "pygments_lexer": "ipython3",
   "version": "3.9.12"
  },
  "orig_nbformat": 4
 },
 "nbformat": 4,
 "nbformat_minor": 2
}
